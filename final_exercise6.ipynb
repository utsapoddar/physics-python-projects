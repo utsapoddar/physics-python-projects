{
  "nbformat": 4,
  "nbformat_minor": 0,
  "metadata": {
    "colab": {
      "name": "final_exercise6.ipynb",
      "provenance": [],
      "collapsed_sections": []
    },
    "kernelspec": {
      "name": "python3",
      "display_name": "Python 3"
    },
    "language_info": {
      "name": "python"
    }
  },
  "cells": [
    {
      "cell_type": "markdown",
      "metadata": {
        "id": "R_mRm-I7JC7B"
      },
      "source": [
        "Name: Utsa Poddar\n",
        "UCID: 30071131"
      ]
    },
    {
      "cell_type": "code",
      "metadata": {
        "id": "nVHyFeMAJS2Y",
        "colab": {
          "base_uri": "https://localhost:8080/",
          "height": 396
        },
        "outputId": "94828a67-f32e-4976-a88d-ff49eeb9a36d"
      },
      "source": [
        "import matplotlib.pyplot as plt\n",
        "import math\n",
        "\n",
        "#setting parameters\n",
        "\n",
        "#gravitational acceleration \n",
        "g=9.81\n",
        "#diameter of the object in meters\n",
        "D=0.043\n",
        "# mass of the object\n",
        "m=0.046\n",
        "\n",
        "#features of the drag constant\n",
        "B=1.6*10**-4\n",
        "C=0.25\n",
        "b=B*D\n",
        "c=C*(D**2)\n",
        "#time spacing\n",
        "dt=0.001\n",
        "\n",
        "#angle of throw (in degree)\n",
        "theta=50\n",
        "#degree to radians\n",
        "theta_rads=math.radians(theta)\n",
        "\n",
        "#initial conditions (with non linear air resistance)\n",
        "t=0\n",
        "v0=60\n",
        "vy=v0*math.sin(theta_rads)\n",
        "vx=v0*math.cos(theta_rads)\n",
        "y=0\n",
        "x=0\n",
        "\n",
        "\n",
        "\n",
        "#lists for the motion in non-linear air resistence\n",
        "timev=[t]\n",
        "velocityy=[vy]\n",
        "velocityx=[vx]\n",
        "yy=[y]\n",
        "xx=[x]\n",
        "\n",
        "\n",
        "#loop for the Euler integration\n",
        "while(y>=0):\n",
        "  #model with non linear air resistence\n",
        "  #determining the change in vertical velocity\n",
        "  dvy=-g*dt-(c/m)*math.sqrt(vx**2+vy**2)*vy*dt\n",
        "  #updating vertical velocity\n",
        "  vy=vy+dvy\n",
        "\n",
        "  #determining the change in vertical height\n",
        "  dy=dt*vy\n",
        "  #updating vertical height\n",
        "  y=y+dy\n",
        "  #determining the change in horizontal velocity\n",
        "  dvx=-(c/m)*math.sqrt(vx**2+vy**2)*vx*dt\n",
        "  #updating horizontal velocity\n",
        "  vx=dvx+vx\n",
        "  #determining the change in horizontal distance\n",
        "  dx=dt*vx\n",
        "  #updating horizontal distance\n",
        "  x=x+dx\n",
        "  #updating time\n",
        "  t=t+dt\n",
        "  #adding the values of time, velocity, x position and y position into their respective lists\n",
        "  timev.append(t)\n",
        "  velocityy.append(vy)\n",
        "  velocityx.append(vx)\n",
        "  yy.append(y)\n",
        "  xx.append(x)\n",
        "\n",
        "#list to keep track of the space invader at a fixed height\n",
        "invader_ylist=[]\n",
        "invader_xlist=[]\n",
        "fixed_height=30\n",
        "#initializing the conditions for the space invader\n",
        "vs=-10\n",
        "x_i=150\n",
        "\n",
        "#creating the path for the invader \n",
        "for i in timev:\n",
        "  #creating a list of constant height for the invader\n",
        "  invader_ylist.append(fixed_height)\n",
        "  #determining the change in horizontal distance for the invader\n",
        "  dx_i=dt*vs\n",
        "  #updating horizontal distance for the invader\n",
        "  x_i=x_i+dx_i\n",
        "  #adding the values of horizontal distance to the appropriate list\n",
        "  invader_xlist.append(x_i)\n",
        "\n",
        "#determing if the cannon ball and the invader were at the same (x,y) point at the same time.\n",
        "#as the xx points for the invader is constant for the invader, only checking for the y point is required\n",
        "for i in range(len(timev)):\n",
        "  if abs(invader_ylist[i]-yy[i])<=D/2 and (xx[i]-invader_xlist[i])<=D/2 and invader_xlist[-1]<xx[i]<invader_xlist[0]:\n",
        "    print(xx[i],yy[i])\n",
        "    print(\"Shot!\") \n",
        "\n",
        "#ploting two lines for the projectile motion and the space invader\n",
        "plt.plot(xx,yy,'b',label=\"path taken by canon ball\")\n",
        "plt.plot(invader_xlist,invader_ylist,'g',label=\"path taken by space invader\")\n",
        "#labeling the axis with units\n",
        "plt.title(\"Space invaders game\")\n",
        "plt.xlabel('x (m)')\n",
        "plt.ylabel('y (m)')\n",
        "plt.legend()\n",
        "plt.show()"
      ],
      "execution_count": null,
      "outputs": [
        {
          "output_type": "stream",
          "text": [
            "94.29686466650284 30.014611342426875\n",
            "Shot!\n",
            "94.30842784990108 29.997649171428947\n",
            "Shot!\n",
            "94.31998864732564 29.98068068955525\n",
            "Shot!\n"
          ],
          "name": "stdout"
        },
        {
          "output_type": "display_data",
          "data": {
            "image/png": "[encoded data removed]",
            "text/plain": [
              "<Figure size 432x288 with 1 Axes>"
            ]
          },
          "metadata": {
            "tags": [],
            "needs_background": "light"
          }
        }
      ]
    },
    {
      "cell_type": "markdown",
      "metadata": {
        "id": "v0xhZU-y5msG"
      },
      "source": [
        "It is assummed that the space invader is a point particle, however, the canon ball is not, it has a diameter of 0.043m. Hence if the distance between the ball and the invader is less than the radius (D/2) in the x-direction, as well as if the absolute distance between the ball and the invader is less than the radius (D/2) in the y-direction, the canonball hits. It hits when x is around 94.3m"
      ]
    }
  ]
}