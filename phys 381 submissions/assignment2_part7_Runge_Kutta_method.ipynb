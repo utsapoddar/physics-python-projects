{
  "nbformat": 4,
  "nbformat_minor": 0,
  "metadata": {
    "colab": {
      "name": "assignment2_part7_Runge-Kutta method.ipynb",
      "provenance": [],
      "collapsed_sections": []
    },
    "kernelspec": {
      "name": "python3",
      "display_name": "Python 3"
    }
  },
  "cells": [
    {
      "cell_type": "code",
      "metadata": {
        "colab": {
          "base_uri": "https://localhost:8080/",
          "height": 279
        },
        "id": "0DspJecl8--Q",
        "outputId": "d23d6b7c-3749-4e07-8f9c-b57100f067f0"
      },
      "source": [
        "#this script explores the non-linear pendulum equation using both the Runge-kutta method and the trapezoid rule\r\n",
        "import matplotlib.pylab as plt\r\n",
        "import numpy as np\r\n",
        "import math\r\n",
        "\r\n",
        "#setting the value of k, phi and A to there respective numbers as mentioned in 4b\r\n",
        "k=0.5\r\n",
        "phi=0.66667\r\n",
        "A=0.0\r\n",
        "\r\n",
        "#defining the value of the gravitational constant and length of the string\r\n",
        "L=1.0\r\n",
        "g=1.0\r\n",
        "\r\n",
        "#introducing equation 11 as instructed (4a)\r\n",
        "#the sin (theta) was made into a theta as we are working with a linear pendulum\r\n",
        "def f_nonlin(theta,omega,t):\r\n",
        "  f=(-g/L)*(math.sin(theta))-(k*omega)+A*(math.cos(phi*t))\r\n",
        "  return f\r\n",
        "\r\n",
        "#initializing the values mentioned in 7d\r\n",
        "theta=3.0\r\n",
        "omega=0.0\r\n",
        "t=0.0\r\n",
        "dt=0.01\r\n",
        "\r\n",
        "#creating lists to store values, that are going to be plotted later \r\n",
        "R_theta_list=[theta]\r\n",
        "R_omega_list=[omega]\r\n",
        "R_t_list=[t]\r\n",
        "\r\n",
        "T_theta_list=[theta]\r\n",
        "T_omega_list=[omega]\r\n",
        "T_t_list=[t]\r\n",
        "\r\n",
        "#assigning the values of theta and omega dependin on which method is being used\r\n",
        "R_theta=theta\r\n",
        "R_omega=omega\r\n",
        "R_t=t\r\n",
        "\r\n",
        "T_theta=theta\r\n",
        "T_omega=omega\r\n",
        "T_t=t\r\n",
        "\r\n",
        "#adding the trapezoid code\r\n",
        "for i in range(1000):\r\n",
        "  k1a = dt * T_omega\r\n",
        "  k1b = dt * f_nonlin(T_theta, T_omega, T_t)\r\n",
        "  k2a = dt * (T_omega + k1b)\r\n",
        "  k2b = dt * f_nonlin(T_theta + k1a, T_omega + k1b, T_t + dt)\r\n",
        "  T_theta = T_theta + (k1a + k2a)/2\r\n",
        "  T_omega = T_omega + (k1b + k2b)/2\r\n",
        "  \r\n",
        "  T_t = T_t + dt\r\n",
        "\r\n",
        "  #updating the appropriate lists as the values are being determined in each iteration\r\n",
        "  T_theta_list.append(T_theta)\r\n",
        "  T_omega_list.append(T_omega)\r\n",
        "  T_t_list.append(T_t)\r\n",
        "\r\n",
        "#adding the Runge-Kutta method\r\n",
        "for j in range (1000):\r\n",
        "  k1a=dt*R_omega\r\n",
        "  k1b=dt*f_nonlin(R_theta, R_omega, R_t)\r\n",
        "  k2a=dt*(R_omega+k1b/2)\r\n",
        "  k2b=dt*f_nonlin(R_theta+k1a/2, R_omega+k1b/2, R_t+dt/2)\r\n",
        "  k3a=dt*(R_omega+k2b/2)\r\n",
        "  k3b=dt*f_nonlin(R_theta+k2a/2, R_omega+k2b/2, R_t+dt/2)\r\n",
        "  k4a=dt*(R_omega+k3b)\r\n",
        "  k4b=dt*f_nonlin(R_theta+k3a, R_omega+k3b, R_t+dt)\r\n",
        "\r\n",
        "  R_theta=R_theta+(k1a+2*k2a+2*k3a+k4a)/6\r\n",
        "  R_omega=R_omega+(k1b+2*k2b+2*k3b+k4b)/6\r\n",
        "  \r\n",
        "  R_t=R_t+dt\r\n",
        "\r\n",
        "  #updating the appropriate lists as the values are being determined in each iteration\r\n",
        "  R_theta_list.append(R_theta)\r\n",
        "  R_omega_list.append(R_omega)\r\n",
        "  R_t_list.append(R_t)\r\n",
        "\r\n",
        "\r\n",
        "#ploting theta and omega as a function of time\r\n",
        "plt.plot(T_t_list,T_theta_list, label='Trapezoid rule', color='red')\r\n",
        "plt.plot(R_t_list, R_omega_list, label='Runge-Kutta method', color='blue')\r\n",
        "plt.xlabel('t')\r\n",
        "plt.ylabel('θ')\r\n",
        "plt.ylim([-np.pi,np.pi])\r\n",
        "plt.legend()\r\n",
        "plt.show()"
      ],
      "execution_count": null,
      "outputs": [
        {
          "output_type": "display_data",
          "data": {
            "image/png": "[encoded data removed]",
            "text/plain": [
              "<Figure size 432x288 with 1 Axes>"
            ]
          },
          "metadata": {
            "tags": [],
            "needs_background": "light"
          }
        }
      ]
    }
  ]
}