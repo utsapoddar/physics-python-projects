{
  "nbformat": 4,
  "nbformat_minor": 0,
  "metadata": {
    "colab": {
      "name": "part8_damped_nonlinear_pendulum.ipynb",
      "provenance": [],
      "collapsed_sections": []
    },
    "kernelspec": {
      "name": "python3",
      "display_name": "Python 3"
    }
  },
  "cells": [
    {
      "cell_type": "code",
      "metadata": {
        "colab": {
          "base_uri": "https://localhost:8080/",
          "height": 279
        },
        "id": "4EHAp3G9EWxP",
        "outputId": "6256ca53-ff5f-40ec-8635-277d1f729116"
      },
      "source": [
        "#this script explores the non-linear pendulum equation using the trapezoid rule\r\n",
        "import matplotlib.pylab as plt\r\n",
        "import numpy as np\r\n",
        "import math\r\n",
        "\r\n",
        "#setting the value of k, phi and A to there respective numbers as mentioned in 8a\r\n",
        "k=0.5\r\n",
        "phi=0.66667\r\n",
        "A=0.0\r\n",
        "\r\n",
        "#defining the value of the gravitational constant and length of the string\r\n",
        "L=1.0\r\n",
        "g=1.0\r\n",
        "\r\n",
        "#introducing equation 11 as instructed in 5c\r\n",
        "def f_nonlin(theta,omega,t):\r\n",
        "  f=(-g/L)*(math.sin(theta))-(k*omega)+A*(math.cos(phi*t))\r\n",
        "  return f\r\n",
        "\r\n",
        "#initializing the values mentioned in 8c\r\n",
        "theta=3.0\r\n",
        "omega=0.0\r\n",
        "t=0.0\r\n",
        "dt=0.01\r\n",
        "\r\n",
        "#creating lists to store values, that are going to be plotted later \r\n",
        "theta_list=[theta]\r\n",
        "omega_list=[omega]\r\n",
        "t_list=[t]\r\n",
        "\r\n",
        "#adding the trapezoid code\r\n",
        "#adding the loop mentioned in 4e\r\n",
        "for i in range(1000):\r\n",
        "  k1a = dt * omega\r\n",
        "  k1b = dt * f_nonlin(theta, omega, t)\r\n",
        "  k2a = dt * (omega + k1b)\r\n",
        "  k2b = dt * f_nonlin(theta + k1a, omega + k1b, t + dt)\r\n",
        "  theta = theta + (k1a + k2a)/2\r\n",
        "  omega = omega + (k1b + k2b)/2\r\n",
        "  t = t + dt\r\n",
        "\r\n",
        "  #updating the appropriate lists as the values are being determined in each loop\r\n",
        "  theta_list.append(theta)\r\n",
        "  omega_list.append(omega)\r\n",
        "  t_list.append(t) \r\n",
        "\r\n",
        "#ploting theta and omega as a function of time\r\n",
        "plt.plot(t_list,theta_list, label='non-linear θ', color='red')\r\n",
        "plt.plot(t_list, omega_list, label='non-linear ω', color='blue')\r\n",
        "plt.xlabel('t')\r\n",
        "plt.ylabel('θ & ω')\r\n",
        "plt.ylim([-np.pi,np.pi])\r\n",
        "plt.legend()\r\n",
        "plt.show()\r\n",
        "  "
      ],
      "execution_count": null,
      "outputs": [
        {
          "output_type": "display_data",
          "data": {
            "image/png": "[encoded data removed]",
            "text/plain": [
              "<Figure size 432x288 with 1 Axes>"
            ]
          },
          "metadata": {
            "tags": [],
            "needs_background": "light"
          }
        }
      ]
    }
  ]
}