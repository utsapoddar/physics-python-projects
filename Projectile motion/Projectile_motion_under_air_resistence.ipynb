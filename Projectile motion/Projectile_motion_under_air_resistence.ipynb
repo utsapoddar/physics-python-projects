{
  "nbformat": 4,
  "nbformat_minor": 0,
  "metadata": {
    "colab": {
      "name": "assignment 3",
      "provenance": [],
      "collapsed_sections": []
    },
    "kernelspec": {
      "name": "python3",
      "display_name": "Python 3"
    }
  },
  "cells": [
    {
      "cell_type": "markdown",
      "metadata": {
        "id": "9GRaNkB6iSX6"
      },
      "source": [
        "Ex 1a"
      ]
    },
    {
      "cell_type": "code",
      "metadata": {
        "colab": {
          "base_uri": "https://localhost:8080/",
          "height": 279
        },
        "id": "uJ0_WlWHu8sX",
        "outputId": "51fc2403-1c6a-48e9-b575-cb9e30dd46b2"
      },
      "source": [
        "import matplotlib.pyplot as plt\r\n",
        "import numpy as np\r\n",
        "import math\r\n",
        "##constants for the features of drag force\r\n",
        "B=1.6*10**-4\r\n",
        "C=0.25\r\n",
        "\r\n",
        "#range for the value of x or Dv\r\n",
        "x=np.arange(-1,1,0.01)\r\n",
        "#ploting the graphs for the linear and non-linear term\r\n",
        "plt.plot(x,B*x, label='Dv vs Bx (linear term)')\r\n",
        "plt.plot(x,C*x*x, label='Dv vs Cx^2 (non-linear term)')\r\n",
        "#labeling the axis with units\r\n",
        "plt.xlabel('Dv (m^2/s)')\r\n",
        "plt.ylabel('terms (N)')\r\n",
        "#showing the legend to distinguish the lines\r\n",
        "plt.legend()\r\n",
        "plt.show()"
      ],
      "execution_count": null,
      "outputs": [
        {
          "output_type": "display_data",
          "data": {
            "image/png": "[encoded data removed]",
            "text/plain": [
              "<Figure size 432x288 with 1 Axes>"
            ]
          },
          "metadata": {
            "tags": [],
            "needs_background": "light"
          }
        }
      ]
    },
    {
      "cell_type": "markdown",
      "metadata": {
        "id": "Zy2_hdgqiZnm"
      },
      "source": [
        "Ex 2abc"
      ]
    },
    {
      "cell_type": "code",
      "metadata": {
        "colab": {
          "base_uri": "https://localhost:8080/",
          "height": 279
        },
        "id": "q_MJhHHbidF4",
        "outputId": "ad46de04-47b6-41b8-cf6d-00fcfb4b9dfc"
      },
      "source": [
        "import matplotlib.pyplot as plt\r\n",
        "import numpy as np\r\n",
        "import math\r\n",
        "#constants for the features of drag force \r\n",
        "B=1.6*10**-4\r\n",
        "C=0.25\r\n",
        "#diameter of the object\r\n",
        "D=10**-4\r\n",
        "#gravitational acceleration \r\n",
        "g=9.81\r\n",
        "#volume of the object\r\n",
        "vol=(4/3)*math.pi* (D/2)**3\r\n",
        "#density of the object\r\n",
        "rho=2000\r\n",
        "# mass of the object\r\n",
        "m=rho*vol\r\n",
        "#features of drag force\r\n",
        "b=B*D\r\n",
        "#list to keep the v values\r\n",
        "vy_list=[0]\r\n",
        "#list to keep the t values\r\n",
        "t_list=[0]\r\n",
        "\r\n",
        "#initial conditions\r\n",
        "t=0\r\n",
        "vy=0\r\n",
        "#small interval value of t\r\n",
        "dt=0.001\r\n",
        "#loop to determine the value of v for each small change until t=1s\r\n",
        "for i in range(1000):\r\n",
        "  #determining the change in v\r\n",
        "  dvy=g*dt-(b/m)*vy*dt\r\n",
        "  #updating v\r\n",
        "  vy=vy+dvy\r\n",
        "  #changing t just a little\r\n",
        "  t=t+dt\r\n",
        "  #putting each value of t and v in their cooresponding lists\r\n",
        "  t_list.append(t)\r\n",
        "  vy_list.append(vy)\r\n",
        "#ploting the graph v vs t\r\n",
        "plt.plot(t_list,vy_list)\r\n",
        "#labeling the axis with units\r\n",
        "plt.xlabel('t (s)')\r\n",
        "plt.ylabel('v_y (m/s)')\r\n",
        "\r\n",
        "plt.show()"
      ],
      "execution_count": null,
      "outputs": [
        {
          "output_type": "display_data",
          "data": {
            "image/png": "[encoded data removed]",
            "text/plain": [
              "<Figure size 432x288 with 1 Axes>"
            ]
          },
          "metadata": {
            "tags": [],
            "needs_background": "light"
          }
        }
      ]
    },
    {
      "cell_type": "markdown",
      "metadata": {
        "id": "oLdfLJz2X_AY"
      },
      "source": [
        "2d"
      ]
    },
    {
      "cell_type": "code",
      "metadata": {
        "colab": {
          "base_uri": "https://localhost:8080/",
          "height": 279
        },
        "id": "YzxHTBznX-YE",
        "outputId": "18f8f51f-787e-4309-ebc2-d94ee6ed51fe"
      },
      "source": [
        "\r\n",
        "\r\n",
        "import matplotlib.pyplot as plt\r\n",
        "import numpy as np\r\n",
        "import math\r\n",
        "#setting parameters\r\n",
        "B=1.6*10**-4\r\n",
        "#B=1.6*10**-6\r\n",
        "C=0.25\r\n",
        "D=10**-4\r\n",
        "#gravitational acceleration \r\n",
        "g=9.81\r\n",
        "#volume of the object\r\n",
        "vol=(4/3)*math.pi* (D/2)**3\r\n",
        "#density of the object\r\n",
        "rho=2000\r\n",
        "# mass of the object\r\n",
        "m=rho*vol\r\n",
        "#features of drap force\r\n",
        "b=B*D\r\n",
        "#list to keep the v values\r\n",
        "error_list=[]\r\n",
        "#list to keep the t values\r\n",
        "t_list=[]\r\n",
        "\r\n",
        "#initial conditions\r\n",
        "t=0\r\n",
        "vy=0\r\n",
        "dt=0.001\r\n",
        "\r\n",
        "#loop to determine the value of error for each small change until t=1s\r\n",
        "for i in range (1000):\r\n",
        "  #determing the change in v\r\n",
        "  dvy=g*dt-(b/m)*vy*dt\r\n",
        "  #determining each approximate v\r\n",
        "  vy=vy+dvy\r\n",
        "  #determining each actual v\r\n",
        "  vy_prime=(m*g/b)*(1-math.exp(-b*t/m))\r\n",
        "  #determining the error\r\n",
        "  error=vy_prime-vy\r\n",
        "  #changing t just a little\r\n",
        "  t=t+dt\r\n",
        "  #putting each value of t and error in their cooresponding lists\r\n",
        "  t_list.append(t)\r\n",
        "  error_list.append(error)\r\n",
        "\r\n",
        "#ploting the graph error vs t\r\n",
        "plt.plot(t_list,error_list)\r\n",
        "#labeling the axis with units\r\n",
        "plt.xlabel('t (s)')\r\n",
        "plt.ylabel('error (m/s)')\r\n",
        "\r\n",
        "plt.show()\r\n",
        "  "
      ],
      "execution_count": null,
      "outputs": [
        {
          "output_type": "display_data",
          "data": {
            "image/png": "[encoded data removed]",
            "text/plain": [
              "<Figure size 432x288 with 1 Axes>"
            ]
          },
          "metadata": {
            "tags": [],
            "needs_background": "light"
          }
        }
      ]
    },
    {
      "cell_type": "markdown",
      "metadata": {
        "id": "sYFOe8URicif"
      },
      "source": [
        "2e part 1"
      ]
    },
    {
      "cell_type": "code",
      "metadata": {
        "colab": {
          "base_uri": "https://localhost:8080/",
          "height": 296
        },
        "id": "SDbn36ykUFID",
        "outputId": "80b456a1-24ed-4a87-d60d-e9e844440e88"
      },
      "source": [
        "import matplotlib.pyplot as plt\r\n",
        "import numpy as np\r\n",
        "import math\r\n",
        "#setting parameters\r\n",
        "B=1.6*10**-4\r\n",
        "C=0.25\r\n",
        "#diameter of the object\r\n",
        "D=10**-4\r\n",
        "#gravitational acceleration \r\n",
        "g=9.81\r\n",
        "#volume of the object\r\n",
        "vol=(4/3)*math.pi* (D/2)**3\r\n",
        "#density of the object\r\n",
        "rho=2000\r\n",
        "# mass of the object\r\n",
        "m=rho*vol\r\n",
        "#features of drap force\r\n",
        "b=B*D\r\n",
        "#list to keep the y values\r\n",
        "y_list=[5]\r\n",
        "#list to keep the t values\r\n",
        "t_list=[0]\r\n",
        "\r\n",
        "#initial conditions\r\n",
        "t=0\r\n",
        "vy=0\r\n",
        "dt=0.001\r\n",
        "H=5\r\n",
        "y=H\r\n",
        "\r\n",
        "#loop to determine the time taken for the object to reach the ground\r\n",
        "while y>0:\r\n",
        "  #determining the change in v \r\n",
        "  dvy=g*dt-(b/m)*vy*dt\r\n",
        "  #updating v\r\n",
        "  vy=vy+dvy\r\n",
        "  #changing t just a little\r\n",
        "  t=t+dt\r\n",
        "  #determining the small change in y position\r\n",
        "  dy=dt*vy\r\n",
        "  #updating y\r\n",
        "  y=y-dy\r\n",
        "  #putting each value of t and y in their cooresponding lists\r\n",
        "  t_list.append(t)\r\n",
        "  y_list.append(y)\r\n",
        "\r\n",
        "#printing the value of time taken to reach the ground\r\n",
        "print(\"It take the grain a time of %.2fs to reach the ground\"%t)\r\n",
        "\r\n",
        "#ploting the graph error vs t\r\n",
        "plt.plot(t_list,y_list)\r\n",
        "#labeling the axis with units\r\n",
        "plt.xlabel('t (s)')\r\n",
        "plt.ylabel('y (m)')\r\n",
        "\r\n",
        "plt.show()"
      ],
      "execution_count": null,
      "outputs": [
        {
          "output_type": "stream",
          "text": [
            "It take the grain a time of 7.85s to reach the ground\n"
          ],
          "name": "stdout"
        },
        {
          "output_type": "display_data",
          "data": {
            "image/png": "[encoded data removed]",
            "text/plain": [
              "<Figure size 432x288 with 1 Axes>"
            ]
          },
          "metadata": {
            "tags": [],
            "needs_background": "light"
          }
        }
      ]
    },
    {
      "cell_type": "markdown",
      "metadata": {
        "id": "WcQ2r81HmgtS"
      },
      "source": [
        "2e part 2"
      ]
    },
    {
      "cell_type": "code",
      "metadata": {
        "colab": {
          "base_uri": "https://localhost:8080/",
          "height": 280
        },
        "id": "ivj125YMmiqp",
        "outputId": "a6d551dd-3b51-4aa3-f4ab-d9c99bf48a19"
      },
      "source": [
        "import matplotlib.pyplot as plt\r\n",
        "import numpy as np\r\n",
        "import math\r\n",
        "#setting parameters\r\n",
        "B=1.6*10**-4\r\n",
        "C=0.25\r\n",
        "#diameter of the object\r\n",
        "D=10**-4\r\n",
        "#gravitational acceleration \r\n",
        "g=9.81\r\n",
        "#volume of the object\r\n",
        "vol=(4/3)*math.pi* (D/2)**3\r\n",
        "#density of the object\r\n",
        "rho=2000\r\n",
        "#setting up the list for mass and time taken to reach the ground\r\n",
        "m_list=[]\r\n",
        "t_list=[]\r\n",
        "#initial value of t\r\n",
        "t=0\r\n",
        "#nested loop- for each value of m the time taken to reach the ground is determined\r\n",
        "#the time taken is placed in the time list\r\n",
        "#the mass is place in the mass list\r\n",
        "for rho in range (2000,5000,200):\r\n",
        "  # mass of the object to be for each iteration my changing rho or density\r\n",
        "  m=rho*vol\r\n",
        "  #features of drap force\r\n",
        "  b=B*D\r\n",
        "  #list to keep the y values\r\n",
        "  y_list=[5]\r\n",
        "  #initial conditions\r\n",
        "  vy=0\r\n",
        "  dt=0.001\r\n",
        "  H=5\r\n",
        "  y=H\r\n",
        "  t=0\r\n",
        "  #loop to determine the time taken for the object to reach the ground\r\n",
        "  while y>0:\r\n",
        "    #determining the change in v \r\n",
        "    dvy=g*dt-(b/m)*vy*dt\r\n",
        "    #updating v\r\n",
        "    vy=vy+dvy\r\n",
        "    #changing t just a little\r\n",
        "    t=t+dt\r\n",
        "    #determining the small change in y position\r\n",
        "    dy=dt*vy\r\n",
        "    #updating y\r\n",
        "    y=y-dy\r\n",
        "  #putting each value of t and m in their cooresponding lists\r\n",
        "  t_list.append(t)\r\n",
        "  m_list.append(m)\r\n",
        "#ploting the graph t vs m\r\n",
        "plt.plot(m_list,t_list)\r\n",
        "#labeling the axis with units\r\n",
        "plt.xlabel('m (kg)')\r\n",
        "plt.ylabel('t (s)')\r\n",
        "\r\n",
        "plt.show()"
      ],
      "execution_count": null,
      "outputs": [
        {
          "output_type": "display_data",
          "data": {
            "image/png": "[encoded data removed]",
            "text/plain": [
              "<Figure size 432x288 with 1 Axes>"
            ]
          },
          "metadata": {
            "tags": [],
            "needs_background": "light"
          }
        }
      ]
    },
    {
      "cell_type": "markdown",
      "metadata": {
        "id": "7Z7zfos_Zjs5"
      },
      "source": [
        "3a"
      ]
    },
    {
      "cell_type": "code",
      "metadata": {
        "colab": {
          "base_uri": "https://localhost:8080/",
          "height": 279
        },
        "id": "W2KKd0i9Zfhr",
        "outputId": "a917b376-06d0-40b1-d52b-6c1396858139"
      },
      "source": [
        "import matplotlib.pyplot as plt\r\n",
        "import math\r\n",
        "import time\r\n",
        "\r\n",
        "#setting parameters\r\n",
        "\r\n",
        "#gravitational acceleration \r\n",
        "g=9.81\r\n",
        "#diameter of the object\r\n",
        "D=10**-4\r\n",
        "#volume of the object\r\n",
        "vol=(4/3)*math.pi* (D/2)**3\r\n",
        "#density of the object\r\n",
        "rho=2000\r\n",
        "# mass of the object\r\n",
        "m=rho*vol\r\n",
        "\r\n",
        "#features of the drag constant\r\n",
        "B=1.6*10**-4\r\n",
        "b=B*D\r\n",
        "#time spacing\r\n",
        "dt=0.001\r\n",
        "\r\n",
        "#angle of throw (in degree)\r\n",
        "theta=10\r\n",
        "#degree to radians\r\n",
        "theta_rads=math.radians(theta)\r\n",
        "\r\n",
        "#initial conditions (with air resistance)\r\n",
        "t=0\r\n",
        "v0=2.3\r\n",
        "vy=v0*math.sin(theta_rads)\r\n",
        "vx=v0*math.cos(theta_rads)\r\n",
        "y=0\r\n",
        "x=0\r\n",
        "\r\n",
        "#initial conditions (in vacuum)\r\n",
        "vy_vac=vy\r\n",
        "vx_vac=vx\r\n",
        "y_vac=y\r\n",
        "x_vac=x\r\n",
        "\r\n",
        "#lists for the motion in air resistence\r\n",
        "timev=[t]\r\n",
        "velocityy=[vy]\r\n",
        "velocityx=[vx]\r\n",
        "yy=[y]\r\n",
        "xx=[x]\r\n",
        "\r\n",
        "#lists for the motion in vacuum\r\n",
        "velocityy_vac=[vy]\r\n",
        "velocityx_vac=[vx]\r\n",
        "yy_vac=[y]\r\n",
        "xx_vac=[x]\r\n",
        "\r\n",
        "#loop for the Euler integration\r\n",
        "while(y_vac>=0):\r\n",
        "  #model with air resistence\r\n",
        "  #determining the change in vy\r\n",
        "  dvy=-g*dt-(b/m)*vy*dt\r\n",
        "  #updating v\r\n",
        "  vy=vy+dvy\r\n",
        "\r\n",
        "  #determining the small change in y position\r\n",
        "  dy=dt*vy\r\n",
        "  #updating y\r\n",
        "  y=y+dy\r\n",
        "\r\n",
        "  #determining the small change in y position\r\n",
        "  dvx=-(b/m)*vx*dt\r\n",
        "  #determining the change in vy\r\n",
        "  vx=dvx+vx\r\n",
        "\r\n",
        "  #determining the small change in x position\r\n",
        "  dx=dt*vx\r\n",
        "  #updating x\r\n",
        "  x=x+dx\r\n",
        "\r\n",
        "  #changing t just a little\r\n",
        "  t=t+dt\r\n",
        "  \r\n",
        "  \r\n",
        "  \r\n",
        "  \r\n",
        "  if y<0:\r\n",
        "    #reverting back the change in x position\r\n",
        "    x=x-dx\r\n",
        "    #changeing y back 0 if it is less than 0 \r\n",
        "    y=0.0\r\n",
        "    #setting the value of vy to 0 (on ground)\r\n",
        "    vy=0.0\r\n",
        "    #setting the value of vx to 0 (on ground)\r\n",
        "    vx=0.0\r\n",
        "  \r\n",
        "  #putting each value of t, v and displacement in their cooresponding lists\r\n",
        "  timev.append(t)\r\n",
        "  velocityy.append(vy)\r\n",
        "  velocityx.append(vx)\r\n",
        "  yy.append(y)\r\n",
        "  xx.append(x)\r\n",
        "\r\n",
        "  #repeating the same procedure for the object in vaccum\r\n",
        "  dvy_vac=-g*dt\r\n",
        "  vy_vac=vy_vac+dvy_vac\r\n",
        "  dy_vac=dt*vy_vac\r\n",
        "  y_vac=y_vac+dy_vac\r\n",
        "\r\n",
        "  dvx_vac=0\r\n",
        "  vx_vac=vx_vac+dvx_vac\r\n",
        "  dx_vac=dt*vx_vac\r\n",
        "  x_vac=x_vac+dx_vac\r\n",
        "\r\n",
        "  velocityy_vac.append(vy_vac)\r\n",
        "  velocityx_vac.append(vx_vac)\r\n",
        "  yy_vac.append(y_vac)\r\n",
        "  xx_vac.append(x_vac)\r\n",
        "#ploting the graph y vs x in air\r\n",
        "plt.plot(xx,yy,'b',label=\"In air\")\r\n",
        "#ploting the graph y vs x in vacuum\r\n",
        "plt.plot(xx_vac,yy_vac,'r',label=\"In vacuum\")\r\n",
        "#labeling the axis with units\r\n",
        "plt.xlabel('x (m)')\r\n",
        "plt.ylabel('y (m)')\r\n",
        "#showing the legend to distinguish the lines\r\n",
        "plt.legend()\r\n",
        "plt.show()"
      ],
      "execution_count": null,
      "outputs": [
        {
          "output_type": "display_data",
          "data": {
            "image/png": "[encoded data removed]",
            "text/plain": [
              "<Figure size 432x288 with 1 Axes>"
            ]
          },
          "metadata": {
            "tags": [],
            "needs_background": "light"
          }
        }
      ]
    },
    {
      "cell_type": "markdown",
      "metadata": {
        "id": "DGZ2Mnlzr4qb"
      },
      "source": [
        "3b part 1"
      ]
    },
    {
      "cell_type": "code",
      "metadata": {
        "colab": {
          "base_uri": "https://localhost:8080/",
          "height": 296
        },
        "id": "Y2FnfOM9r7KC",
        "outputId": "021e5635-bcaa-4ca6-f704-0a45a1b56045"
      },
      "source": [
        "import matplotlib.pyplot as plt\r\n",
        "import math\r\n",
        "import time\r\n",
        "import numpy as np\r\n",
        "\r\n",
        "\r\n",
        "#setting parameters\r\n",
        "\r\n",
        "#gravitational acceleration \r\n",
        "g=9.81\r\n",
        "#diameter of the object\r\n",
        "D=10**-4\r\n",
        "#volume of the object\r\n",
        "vol=(4/3)*math.pi* (D/2)**3\r\n",
        "#density of the object\r\n",
        "rho=2000\r\n",
        "# mass of the object\r\n",
        "m=rho*vol\r\n",
        "\r\n",
        "#features of the drag constant\r\n",
        "B=1.6*10**-4\r\n",
        "b=B*D\r\n",
        "#time spacing\r\n",
        "dt=0.001\r\n",
        "#setting up the list for horizontal distance and optimum theta\r\n",
        "h_distance_list=[]\r\n",
        "theta_list=[]\r\n",
        "\r\n",
        "\r\n",
        "#nested loop- to determine the maximum horizontal distance for each value of theta\r\n",
        "#storing each have of max horizontal distance for that value of theta\r\n",
        "#iterating through the loop for each value of theta\r\n",
        "\r\n",
        "#range of angle of throw (in degree)\r\n",
        "for theta in np.arange(0,90,0.1):\r\n",
        "  #degree to radians\r\n",
        "  theta_rads=math.radians(theta)\r\n",
        "\r\n",
        "  #initial conditions (with air resistance)\r\n",
        "  t=0\r\n",
        "  v0=2.3\r\n",
        "  vy=v0*math.sin(theta_rads)\r\n",
        "  vx=v0*math.cos(theta_rads)\r\n",
        "  y=0\r\n",
        "  x=0\r\n",
        "\r\n",
        "  #initial conditions (in vacuum)\r\n",
        "  vy_vac=vy\r\n",
        "  vx_vac=vx\r\n",
        "  y_vac=y\r\n",
        "  x_vac=x\r\n",
        "\r\n",
        "  #lists for the motion in air resistence\r\n",
        "  timev=[t]\r\n",
        "  velocityy=[vy]\r\n",
        "  velocityx=[vx]\r\n",
        "  yy=[y]\r\n",
        "  xx=[x]\r\n",
        "\r\n",
        "  #lists for the motion in vacuum\r\n",
        "  velocityy_vac=[vy]\r\n",
        "  velocityx_vac=[vx]\r\n",
        "  yy_vac=[y]\r\n",
        "  xx_vac=[x]\r\n",
        "\r\n",
        "  #loop for the Euler integration\r\n",
        "  while(y_vac>=0):\r\n",
        "    #model with air resistence\r\n",
        "    dvy=-g*dt-(b/m)*vy*dt\r\n",
        "    vy=vy+dvy\r\n",
        "\r\n",
        "  \r\n",
        "    dy=dt*vy\r\n",
        "    y=y+dy\r\n",
        "\r\n",
        "    dvx=-(b/m)*vx*dt\r\n",
        "    vx=dvx+vx\r\n",
        "\r\n",
        "    dx=dt*vx\r\n",
        "    x=x+dx\r\n",
        "\r\n",
        "    t=t+dt\r\n",
        "\r\n",
        "    if y<0:\r\n",
        "      x=x-dx\r\n",
        "      y=0.0\r\n",
        "      vy=0.0\r\n",
        "      vx=0.0\r\n",
        "\r\n",
        "    timev.append(t)\r\n",
        "    velocityy.append(vy)\r\n",
        "    velocityx.append(vx)\r\n",
        "    yy.append(y)\r\n",
        "    xx.append(x)\r\n",
        "  #model in vacuum\r\n",
        "    dvy_vac=-g*dt\r\n",
        "    vy_vac=vy_vac+dvy_vac\r\n",
        "    dy_vac=dt*vy_vac\r\n",
        "    y_vac=y_vac+dy_vac\r\n",
        "\r\n",
        "    dvx_vac=0\r\n",
        "    vx_vac=vx_vac+dvx_vac\r\n",
        "    dx_vac=dt*vx_vac\r\n",
        "    x_vac=x_vac+dx_vac\r\n",
        "\r\n",
        "    velocityy_vac.append(vy_vac)\r\n",
        "    velocityx_vac.append(vx_vac)\r\n",
        "    yy_vac.append(y_vac)\r\n",
        "    xx_vac.append(x_vac)\r\n",
        "  \r\n",
        "  theta_list.append(theta)\r\n",
        "  h_distance=max(xx)\r\n",
        "  h_distance_list.append(h_distance)\r\n",
        "\r\n",
        "#determing the max distance from all the distances\r\n",
        "max_h_distance=max(h_distance_list)\r\n",
        "#creating a dictionary with distance as 'keys' and theta values as 'values'\r\n",
        "dictionary=dict(zip(h_distance_list,theta_list))\r\n",
        "#determing the the theta value for the max distance\r\n",
        "for a in dictionary:\r\n",
        "  if max_h_distance== a:\r\n",
        "    max_theta=dictionary[a]\r\n",
        "#printing the theta value\r\n",
        "print(\"The maximum angle in this case is %.1f degrees and the maximum horizontal distance for this angle is %.3fm\" %(max_theta,max_h_distance))\r\n",
        "#ploting the graph for max horizontal distance vs theta\r\n",
        "plt.plot(theta_list,h_distance_list)\r\n",
        "#labeling the axes with units\r\n",
        "plt.xlabel('theta (degrees)')\r\n",
        "plt.ylabel('max horizontal distance (m)')\r\n",
        "plt.show()"
      ],
      "execution_count": null,
      "outputs": [
        {
          "output_type": "stream",
          "text": [
            "The maximum angle in this case is 24.9 degrees and the maximum horizontal distance for this angle is 0.120m\n"
          ],
          "name": "stdout"
        },
        {
          "output_type": "display_data",
          "data": {
            "image/png": "[encoded data removed]",
            "text/plain": [
              "<Figure size 432x288 with 1 Axes>"
            ]
          },
          "metadata": {
            "tags": [],
            "needs_background": "light"
          }
        }
      ]
    },
    {
      "cell_type": "markdown",
      "metadata": {
        "id": "P6Eelq1O6Iqs"
      },
      "source": [
        "3b part 2"
      ]
    },
    {
      "cell_type": "code",
      "metadata": {
        "colab": {
          "base_uri": "https://localhost:8080/",
          "height": 279
        },
        "id": "6vAF77vE6H4v",
        "outputId": "0e587563-6ccb-4833-b0e7-02658cb87cd6"
      },
      "source": [
        "import matplotlib.pyplot as plt\r\n",
        "import math\r\n",
        "import time\r\n",
        "import numpy as np\r\n",
        "\r\n",
        "\r\n",
        "#setting parameters\r\n",
        "\r\n",
        "#gravitational acceleration \r\n",
        "g=9.81\r\n",
        "#diameter of the object\r\n",
        "D=10**-4\r\n",
        "#volume of the object\r\n",
        "vol=(4/3)*math.pi* (D/2)**3\r\n",
        "#density of the object\r\n",
        "#rho=2000\r\n",
        "m_list=[]\r\n",
        "op_theta_list=[]\r\n",
        "for rho in range (2000,5000,100):\r\n",
        "  # mass of the object\r\n",
        "  m=rho*vol\r\n",
        "  #features of the drag constant\r\n",
        "  B=1.6*10**-4\r\n",
        "  b=B*D\r\n",
        "  #time spacing\r\n",
        "  dt=0.001\r\n",
        "\r\n",
        "  h_distance_list=[]\r\n",
        "\r\n",
        "\r\n",
        "  #nested loop for determing the optimal theta for different masses\r\n",
        "  for theta in np.arange(0,90,0.1):\r\n",
        "    #degree to radians\r\n",
        "    theta_rads=math.radians(theta)\r\n",
        "\r\n",
        "    #initial conditions (with air resistance)\r\n",
        "    t=0\r\n",
        "    v0=2.3\r\n",
        "    vy=v0*math.sin(theta_rads)\r\n",
        "    vx=v0*math.cos(theta_rads)\r\n",
        "    y=0\r\n",
        "    x=0\r\n",
        "\r\n",
        "    #initial conditions (in vacuum)\r\n",
        "    vy_vac=vy\r\n",
        "    vx_vac=vx\r\n",
        "    y_vac=y\r\n",
        "    x_vac=x\r\n",
        "\r\n",
        "    #lists for the motion in air resistence\r\n",
        "    timev=[t]\r\n",
        "    velocityy=[vy]\r\n",
        "    velocityx=[vx]\r\n",
        "    yy=[y]\r\n",
        "    xx=[x]\r\n",
        "\r\n",
        "    #lists for the motion in vacuum\r\n",
        "    velocityy_vac=[vy]\r\n",
        "    velocityx_vac=[vx]\r\n",
        "    yy_vac=[y]\r\n",
        "    xx_vac=[x]\r\n",
        "\r\n",
        "    #loop for the Euler integration\r\n",
        "    while(y_vac>=0):\r\n",
        "      #model with air resistence\r\n",
        "      dvy=-g*dt-(b/m)*vy*dt\r\n",
        "      vy=vy+dvy\r\n",
        "\r\n",
        "    \r\n",
        "      dy=dt*vy\r\n",
        "      y=y+dy\r\n",
        "\r\n",
        "      dvx=-(b/m)*vx*dt\r\n",
        "      vx=dvx+vx\r\n",
        "\r\n",
        "      dx=dt*vx\r\n",
        "      x=x+dx\r\n",
        "\r\n",
        "      t=t+dt\r\n",
        "\r\n",
        "      if y<0:\r\n",
        "        x=x-dx\r\n",
        "        y=0.0\r\n",
        "        vy=0.0\r\n",
        "        vx=0.0\r\n",
        "\r\n",
        "      timev.append(t)\r\n",
        "      velocityy.append(vy)\r\n",
        "      velocityx.append(vx)\r\n",
        "      yy.append(y)\r\n",
        "      xx.append(x)\r\n",
        "\r\n",
        "      dvy_vac=-g*dt\r\n",
        "      vy_vac=vy_vac+dvy_vac\r\n",
        "      dy_vac=dt*vy_vac\r\n",
        "      y_vac=y_vac+dy_vac\r\n",
        "\r\n",
        "      dvx_vac=0\r\n",
        "      vx_vac=vx_vac+dvx_vac\r\n",
        "      dx_vac=dt*vx_vac\r\n",
        "      x_vac=x_vac+dx_vac\r\n",
        "\r\n",
        "      velocityy_vac.append(vy_vac)\r\n",
        "      velocityx_vac.append(vx_vac)\r\n",
        "      yy_vac.append(y_vac)\r\n",
        "      xx_vac.append(x_vac)\r\n",
        "    \r\n",
        "    theta_list.append(theta)\r\n",
        "    h_distance=max(xx)\r\n",
        "    h_distance_list.append(h_distance)\r\n",
        "\r\n",
        "  max_h_distance=max(h_distance_list)\r\n",
        "\r\n",
        "  dictionary=dict(zip(h_distance_list,theta_list))\r\n",
        "  for a in dictionary:\r\n",
        "    if max_h_distance== a:\r\n",
        "      max_theta=dictionary[a]\r\n",
        "  op_theta=max_theta\r\n",
        "  #putting determined theta mass value in their appropriate lists\r\n",
        "  op_theta_list.append(op_theta)\r\n",
        "  m_list.append(m)\r\n",
        "#ploting the graph for optimal theta vs mass\r\n",
        "plt.plot(m_list,op_theta_list,'o')\r\n",
        "#labeling the axis with units\r\n",
        "plt.xlabel('mass (kg)')\r\n",
        "plt.ylabel('theta (degree)')\r\n",
        "\r\n",
        "plt.show()"
      ],
      "execution_count": null,
      "outputs": [
        {
          "output_type": "display_data",
          "data": {
            "image/png": "[encoded data removed]",
            "text/plain": [
              "<Figure size 432x288 with 1 Axes>"
            ]
          },
          "metadata": {
            "tags": [],
            "needs_background": "light"
          }
        }
      ]
    },
    {
      "cell_type": "markdown",
      "metadata": {
        "id": "hh_7580BZeCB"
      },
      "source": [
        "4a"
      ]
    },
    {
      "cell_type": "code",
      "metadata": {
        "colab": {
          "base_uri": "https://localhost:8080/",
          "height": 279
        },
        "id": "tDgzYZGXZfOl",
        "outputId": "7822b8b1-8fda-4d34-b5ac-9d1c68168b08"
      },
      "source": [
        "import matplotlib.pyplot as plt\r\n",
        "import math\r\n",
        "\r\n",
        "#setting parameters\r\n",
        "\r\n",
        "#gravitational acceleration \r\n",
        "g=9.81\r\n",
        "#diameter of the object\r\n",
        "D=10**-4\r\n",
        "#volume of the object\r\n",
        "vol=(4/3)*math.pi* (D/2)**3\r\n",
        "#density of the object\r\n",
        "rho=2000\r\n",
        "# mass of the object\r\n",
        "m=rho*vol\r\n",
        "\r\n",
        "#features of the drag constant\r\n",
        "B=1.6*10**-4\r\n",
        "C=0.25\r\n",
        "b=B*D\r\n",
        "c=C*(D**2)\r\n",
        "#time spacing\r\n",
        "dt=0.001\r\n",
        "\r\n",
        "#angle of throw (in degree)\r\n",
        "theta=10\r\n",
        "#degree to radians\r\n",
        "theta_rads=math.radians(theta)\r\n",
        "\r\n",
        "#initial conditions (with non linear air resistance)\r\n",
        "t=0\r\n",
        "v0=2.3\r\n",
        "vy=v0*math.sin(theta_rads)\r\n",
        "vx=v0*math.cos(theta_rads)\r\n",
        "y=0\r\n",
        "x=0\r\n",
        "\r\n",
        "#initial conditions (in vacuum)\r\n",
        "vy_vac=vy\r\n",
        "vx_vac=vx\r\n",
        "y_vac=y\r\n",
        "x_vac=x\r\n",
        "\r\n",
        "#initial conditions (with linear air resistance)\r\n",
        "vy_linear=v0*math.sin(theta_rads)\r\n",
        "vx_linear=v0*math.cos(theta_rads)\r\n",
        "y_linear=y\r\n",
        "x_linear=x\r\n",
        "\r\n",
        "#lists for the motion in non-linear air resistence\r\n",
        "timev=[t]\r\n",
        "velocityy=[vy]\r\n",
        "velocityx=[vx]\r\n",
        "yy=[y]\r\n",
        "xx=[x]\r\n",
        "\r\n",
        "#lists for the motion in vacuum\r\n",
        "velocityy_vac=[vy]\r\n",
        "velocityx_vac=[vx]\r\n",
        "yy_vac=[y]\r\n",
        "xx_vac=[x]\r\n",
        "\r\n",
        "#lists for the motion in linear air resistence\r\n",
        "velocityy_linear=[vy]\r\n",
        "velocityx_linear=[vx]\r\n",
        "yy_linear=[y]\r\n",
        "xx_linear=[x]\r\n",
        "\r\n",
        "#loop for the Euler integration\r\n",
        "while(y_vac>=0):\r\n",
        "  #model with non linear air resistence\r\n",
        "  dvy=-g*dt-(c/m)*math.sqrt(vx**2+vy**2)*vy*dt\r\n",
        "  vy=vy+dvy\r\n",
        "\r\n",
        "  \r\n",
        "  dy=dt*vy\r\n",
        "  y=y+dy\r\n",
        "\r\n",
        "  dvx=-(c/m)*math.sqrt(vx**2+vy**2)*vx*dt\r\n",
        "  vx=dvx+vx\r\n",
        "\r\n",
        "  dx=dt*vx\r\n",
        "  x=x+dx\r\n",
        "\r\n",
        "  t=t+dt\r\n",
        "\r\n",
        "  if y<0:\r\n",
        "    x=x-dx\r\n",
        "    y=0.0\r\n",
        "    vy=0.0\r\n",
        "    vx=0.0\r\n",
        "\r\n",
        "  timev.append(t)\r\n",
        "  velocityy.append(vy)\r\n",
        "  velocityx.append(vx)\r\n",
        "  yy.append(y)\r\n",
        "  xx.append(x)\r\n",
        "\r\n",
        "  dvy_vac=-g*dt\r\n",
        "  vy_vac=vy_vac+dvy_vac\r\n",
        "  dy_vac=dt*vy_vac\r\n",
        "  y_vac=y_vac+dy_vac\r\n",
        "\r\n",
        "  dvx_vac=0\r\n",
        "  vx_vac=vx_vac+dvx_vac\r\n",
        "  dx_vac=dt*vx_vac\r\n",
        "  x_vac=x_vac+dx_vac\r\n",
        "\r\n",
        "  velocityy_vac.append(vy_vac)\r\n",
        "  velocityx_vac.append(vx_vac)\r\n",
        "  yy_vac.append(y_vac)\r\n",
        "  xx_vac.append(x_vac)\r\n",
        "\r\n",
        "  dvy_linear=-g*dt-(b/m)*vy*dt\r\n",
        "  vy_linear=vy_linear+dvy_linear\r\n",
        "  dy_linear=dt*vy_linear\r\n",
        "  y_linear=y_linear+dy_linear\r\n",
        "\r\n",
        "  dvx_linear=-(b/m)*vx_linear*dt\r\n",
        "  vx_linear=dvx_linear+vx_linear\r\n",
        "  dx_linear=dt*vx_linear\r\n",
        "  x_linear=x_linear+dx_linear\r\n",
        "\r\n",
        "  if y_linear<0:\r\n",
        "    x_linear=x_linear-dx_linear\r\n",
        "    y_linear=0.0\r\n",
        "    vy_linear=0.0\r\n",
        "    vx_linear=0.0\r\n",
        "\r\n",
        "  velocityy_linear.append(vy_vac)\r\n",
        "  velocityx_linear.append(vx_vac)\r\n",
        "  yy_linear.append(y_linear)\r\n",
        "  xx_linear.append(x_linear)\r\n",
        "\r\n",
        "\r\n",
        "#ploting three lines for non-linear, vacuum and linear air resistance\r\n",
        "plt.plot(xx,yy,'b',label=\"non-linear air resistance\")\r\n",
        "plt.plot(xx_vac,yy_vac,'r',label=\"In vacuum\")\r\n",
        "plt.plot(xx_linear,yy_linear,'g',label=\"linear air resistance\")\r\n",
        "#labeling the axis with units\r\n",
        "plt.xlabel('x (m)')\r\n",
        "plt.ylabel('y (m)')\r\n",
        "#showing the legend to distinguish the lines\r\n",
        "plt.legend()\r\n",
        "plt.show()"
      ],
      "execution_count": null,
      "outputs": [
        {
          "output_type": "display_data",
          "data": {
            "image/png": "[encoded data removed]",
            "text/plain": [
              "<Figure size 432x288 with 1 Axes>"
            ]
          },
          "metadata": {
            "tags": [],
            "needs_background": "light"
          }
        }
      ]
    }
  ]
}
